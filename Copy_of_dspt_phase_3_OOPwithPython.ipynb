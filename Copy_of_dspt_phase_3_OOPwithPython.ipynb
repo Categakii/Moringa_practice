{
  "nbformat": 4,
  "nbformat_minor": 0,
  "metadata": {
    "colab": {
      "provenance": [],
      "include_colab_link": true
    },
    "kernelspec": {
      "name": "python3",
      "display_name": "Python 3"
    },
    "language_info": {
      "name": "python"
    }
  },
  "cells": [
    {
      "cell_type": "markdown",
      "metadata": {
        "id": "view-in-github",
        "colab_type": "text"
      },
      "source": [
        "<a href=\"https://colab.research.google.com/github/Categakii/Moringa_practice/blob/main/Copy_of_dspt_phase_3_OOPwithPython.ipynb\" target=\"_parent\"><img src=\"https://colab.research.google.com/assets/colab-badge.svg\" alt=\"Open In Colab\"/></a>"
      ]
    },
    {
      "cell_type": "markdown",
      "source": [
        "# OOP with Python"
      ],
      "metadata": {
        "id": "KoQv7-ZmqaJd"
      }
    },
    {
      "cell_type": "markdown",
      "source": [
        "**Overview of the lecture**\n",
        "\n",
        "1. Key concepts in OOP with Python\n",
        "2. OOP with Scikit learn"
      ],
      "metadata": {
        "id": "37JjxDkxqiu8"
      }
    },
    {
      "cell_type": "markdown",
      "source": [
        "## Key concepts\n"
      ],
      "metadata": {
        "id": "0aCjCtJKqyf3"
      }
    },
    {
      "cell_type": "code",
      "source": [
        "# Object-Oriented Programming\n",
        "\n",
        "# - Paradigm in programming that modularizes code"
      ],
      "metadata": {
        "id": "hQn54LJXWlSz"
      },
      "execution_count": null,
      "outputs": []
    },
    {
      "cell_type": "markdown",
      "source": [
        "**Class and objects**"
      ],
      "metadata": {
        "id": "MlmsbkXsHxSb"
      }
    },
    {
      "cell_type": "code",
      "execution_count": null,
      "metadata": {
        "id": "-CDdAMMxolBR"
      },
      "outputs": [],
      "source": [
        "#@title\n",
        "# a class is a blueprint for creating objects\n",
        "# (a particular data structure), \n",
        "# providing initial values for state \n",
        "# (member variables) and implementations of behavior \n",
        "# (member functions or methods)\n",
        "\n",
        "# An object is an instance of a class, \n",
        "# and it's defined by the class."
      ]
    },
    {
      "cell_type": "markdown",
      "source": [
        "Example of class definition "
      ],
      "metadata": {
        "id": "JM-0vKuEI3vm"
      }
    },
    {
      "cell_type": "code",
      "source": [
        "class BankAccount:\n",
        "    def __init__(self, account_number, balance):\n",
        "        self.account_number = account_number\n",
        "        self.balance = balance\n",
        "\n",
        "    def deposit(self, amount):\n",
        "        self.balance += amount\n",
        "        return self.balance\n",
        "\n",
        "    def withdraw(self, amount):\n",
        "        if amount > self.balance:\n",
        "            raise Exception(\"Insufficient funds\")\n",
        "        self.balance -= amount\n",
        "        return self.balance\n",
        "\n",
        "    def check_balance(self):\n",
        "        return self.balance"
      ],
      "metadata": {
        "id": "j-13SQSNIzda"
      },
      "execution_count": null,
      "outputs": []
    },
    {
      "cell_type": "code",
      "source": [
        "class Classname:\n",
        "  variable_1 = 23\n",
        "\n",
        "  def function_name():\n",
        "    local_variable = 45\n",
        "\n",
        "    return None"
      ],
      "metadata": {
        "id": "VVAz01WDYp-M"
      },
      "execution_count": null,
      "outputs": []
    },
    {
      "cell_type": "markdown",
      "source": [
        "An instance of the class"
      ],
      "metadata": {
        "id": "OOdaW7vrJJmi"
      }
    },
    {
      "cell_type": "code",
      "source": [
        "my_account = BankAccount(\"1234567890\", 1000) # creates a bank account"
      ],
      "metadata": {
        "id": "QGuzaz6UJGmg"
      },
      "execution_count": null,
      "outputs": []
    },
    {
      "cell_type": "markdown",
      "source": [
        "How can we access the attribute of the object?"
      ],
      "metadata": {
        "id": "ryoE9D2eJUcH"
      }
    },
    {
      "cell_type": "code",
      "source": [
        "print(my_account.account_number)   \n",
        "print(my_account.balance) # Output: 1000  "
      ],
      "metadata": {
        "colab": {
          "base_uri": "https://localhost:8080/"
        },
        "id": "qdR2QyhHJPQu",
        "outputId": "c0d4fb9c-77c4-4bf6-9a22-f0d40a2fcf83"
      },
      "execution_count": null,
      "outputs": [
        {
          "output_type": "stream",
          "name": "stdout",
          "text": [
            "1234567890\n",
            "1000\n"
          ]
        }
      ]
    },
    {
      "cell_type": "markdown",
      "source": [
        "Calling the object's method"
      ],
      "metadata": {
        "id": "V77gORQfJd45"
      }
    },
    {
      "cell_type": "code",
      "source": [
        "print(my_account.check_balance())   # Output: 1000\n",
        "my_account.deposit(500)\n",
        "print(my_account.check_balance())   # Output: 1500\n",
        "my_account.withdraw(1000)\n",
        "print(my_account.check_balance())   # Output: 500\n"
      ],
      "metadata": {
        "colab": {
          "base_uri": "https://localhost:8080/"
        },
        "id": "mnOpgnsPJalw",
        "outputId": "9d312b2d-c19c-4c53-b4c6-73b181111748"
      },
      "execution_count": null,
      "outputs": [
        {
          "output_type": "stream",
          "name": "stdout",
          "text": [
            "1000\n",
            "1500\n",
            "500\n"
          ]
        }
      ]
    },
    {
      "cell_type": "code",
      "source": [
        "df = pd.Dataframe(data) # object of class Dataframe"
      ],
      "metadata": {
        "id": "veJNZ0vjbc1k"
      },
      "execution_count": null,
      "outputs": []
    },
    {
      "cell_type": "code",
      "source": [
        "df.shape # shape attribute"
      ],
      "metadata": {
        "id": "z1HDnK1icPjJ"
      },
      "execution_count": null,
      "outputs": []
    },
    {
      "cell_type": "code",
      "source": [
        "df.head() # head method"
      ],
      "metadata": {
        "id": "4I5Sbo_scXMj"
      },
      "execution_count": null,
      "outputs": []
    },
    {
      "cell_type": "markdown",
      "source": [
        "**Inheritance**"
      ],
      "metadata": {
        "id": "HbIDkf1OMMtx"
      }
    },
    {
      "cell_type": "code",
      "source": [
        "# A mechanism that allows one class to inherit the attributes and \n",
        "# methods of another class, allowing for code reuse and \n",
        "# a hierarchical relationship \n",
        "# between classes."
      ],
      "metadata": {
        "id": "qMkwcCngJjMR"
      },
      "execution_count": null,
      "outputs": []
    },
    {
      "cell_type": "code",
      "source": [
        "class SavingsAccount(BankAccount):\n",
        "    def __init__(self, account_number, balance, interest_rate):\n",
        "        super().__init__(account_number, balance)\n",
        "        self.interest_rate = interest_rate\n",
        "\n",
        "    def add_interest(self):\n",
        "        interest = self.balance * self.interest_rate\n",
        "        self.deposit(interest)"
      ],
      "metadata": {
        "id": "3BSHhuH7NyfX"
      },
      "execution_count": null,
      "outputs": []
    },
    {
      "cell_type": "code",
      "source": [
        "# Creating object\n",
        "savings_account = SavingsAccount(\"1234567890\", 1000, 0.02)"
      ],
      "metadata": {
        "id": "-VyWOW7VN3--"
      },
      "execution_count": null,
      "outputs": []
    },
    {
      "cell_type": "code",
      "source": [
        "savings_account.add_interest()\n",
        "print(savings_account.check_balance())  # Output: 1020"
      ],
      "metadata": {
        "colab": {
          "base_uri": "https://localhost:8080/"
        },
        "id": "kfFd7LEfOATs",
        "outputId": "fc06ea12-c5c5-4d04-a71c-daee9c252082"
      },
      "execution_count": null,
      "outputs": [
        {
          "output_type": "stream",
          "name": "stdout",
          "text": [
            "1020.0\n"
          ]
        }
      ]
    },
    {
      "cell_type": "markdown",
      "source": [
        "**Encapsulation**"
      ],
      "metadata": {
        "id": "9n5WoyUbMnFW"
      }
    },
    {
      "cell_type": "code",
      "source": [
        "# The practice of keeping an object's internal state and behavior private, \n",
        "# and \n",
        "# providing a public interface for interacting with the object."
      ],
      "metadata": {
        "id": "KghbzybTMpw1"
      },
      "execution_count": null,
      "outputs": []
    },
    {
      "cell_type": "code",
      "source": [
        "?str"
      ],
      "metadata": {
        "id": "Pm0STIYff6VW"
      },
      "execution_count": null,
      "outputs": []
    },
    {
      "cell_type": "markdown",
      "source": [
        "**Abstraction**"
      ],
      "metadata": {
        "id": "GQvWnkqRM_vQ"
      }
    },
    {
      "cell_type": "code",
      "source": [
        "# The process of hiding the implementation details of an object and \n",
        "# only exposing\n",
        "# the object's interface, so that the user only needs to know what \n",
        "# the object can do,\n",
        "#  not how it does it."
      ],
      "metadata": {
        "id": "dP8-lUXONB-C"
      },
      "execution_count": null,
      "outputs": []
    },
    {
      "cell_type": "markdown",
      "source": [
        "what is the difference between encapsulation and abstraction?"
      ],
      "metadata": {
        "id": "rSbALpgAOel4"
      }
    },
    {
      "cell_type": "code",
      "source": [
        "# The key difference between encapsulation and abstraction is that encapsulation focuses \n",
        "# on hiding the internal state and behavior of an object, while abstraction focuses on \n",
        "# hiding the complexity of an object's implementation. Both concepts work together to make\n",
        "# the interface of the object simple and easy to use, while ensuring that the object's\n",
        "# internal state and behavior are safe and secure."
      ],
      "metadata": {
        "id": "EqucHd3tOf-a"
      },
      "execution_count": null,
      "outputs": []
    },
    {
      "cell_type": "code",
      "source": [
        "?my_account.check_balance"
      ],
      "metadata": {
        "id": "wsBm70uBfTEh"
      },
      "execution_count": null,
      "outputs": []
    },
    {
      "cell_type": "markdown",
      "source": [
        "**Polymorphism**"
      ],
      "metadata": {
        "id": "GZcT91D7NW8H"
      }
    },
    {
      "cell_type": "code",
      "source": [
        "# The ability for objects of different classes to be used interchangeably, as \n",
        "# they\n",
        "# all implement the same methods."
      ],
      "metadata": {
        "id": "SFWZvCSDNWk8"
      },
      "execution_count": null,
      "outputs": []
    },
    {
      "cell_type": "code",
      "source": [
        "class BankAccount:\n",
        "    def __init__(self, account_number, balance):\n",
        "        self.account_number = account_number\n",
        "        self.balance = balance\n",
        "    \n",
        "    def __str__(self):\n",
        "        return \"Account number: {} | Balance: {}\".format(self.account_number, self.balance)\n",
        "    \n",
        "    def withdraw(self, amount):\n",
        "        if amount > self.balance:\n",
        "            raise Exception(\"Insufficient funds\")\n",
        "        self.balance -= amount\n",
        "        return self.balance\n",
        "\n",
        "class SavingsAccount(BankAccount):\n",
        "    def __init__(self, account_number, balance, interest_rate):\n",
        "        super().__init__(account_number, balance)\n",
        "        self.interest_rate = interest_rate\n",
        "\n",
        "    def add_interest(self):\n",
        "        interest = self.balance * self.interest_rate\n",
        "        self.balance += interest\n",
        "\n",
        "class CheckingAccount(BankAccount):\n",
        "    def __init__(self, account_number, balance, overdraft_limit):\n",
        "        super().__init__(account_number, balance)\n",
        "        self.overdraft_limit = overdraft_limit\n",
        "\n",
        "    def withdraw(self, amount):\n",
        "        if amount > (self.balance + self.overdraft_limit):\n",
        "            raise Exception(\"Insufficient funds\")\n",
        "        self.balance -= amount\n",
        "        return self.balance\n",
        "\n",
        "def process_withdraw(account, amount):\n",
        "    account.withdraw(amount)\n",
        "    print(account)\n",
        "\n",
        "savings_account = SavingsAccount(\"1234567890\", 1000, 0.02)\n",
        "savings_account.add_interest()\n",
        "checking_account = CheckingAccount(\"0987654321\", 500, -50)\n",
        "\n",
        "# process_withdraw(savings_account, 50) \n",
        "# Output: Account number: 1234567890 | Balance: 950\n",
        "print(savings_account.withdraw(50))\n",
        "\n",
        "# process_withdraw(checking_account, 200)\n",
        "# Output: Account number: 0987654321 | Balance: 300\n",
        "print(checking_account.withdraw(300))\n"
      ],
      "metadata": {
        "id": "STU24CJ-wETZ",
        "colab": {
          "base_uri": "https://localhost:8080/"
        },
        "outputId": "dbccb859-9d55-409e-9406-9c7c508d8423"
      },
      "execution_count": null,
      "outputs": [
        {
          "output_type": "stream",
          "name": "stdout",
          "text": [
            "970.0\n",
            "200\n"
          ]
        }
      ]
    },
    {
      "cell_type": "markdown",
      "source": [
        "In this example, we defined a function process_withdraw(account, amount) that takes as its argument an instance of a BankAccount class, and calls the withdraw method on it. It doesn't matter if the instance passed to this function is a SavingsAccount or a CheckingAccount, it just need to have a withdraw method implemented on it.\n",
        "\n",
        "The function process_withdraw doesn't need to know what type of account it's processing, it can treat the objects of different classes polymorphically because they all have the same method (withdraw).\n",
        "\n",
        "Also, we added __str__ method to the BankAccount class that returns a string representation of the account, this method is also inherited by the derived classes and allow them to be represented in the same way as the parent class.\n",
        "\n",
        "This is polymorphism, as it allows you to write code that can work with objects of different classes that implement the same methods, without the need to know the specific class of the object it is working with."
      ],
      "metadata": {
        "id": "AI-XQm8CwKWd"
      }
    },
    {
      "cell_type": "markdown",
      "source": [
        "# OOP with Scikit learn"
      ],
      "metadata": {
        "id": "CHmNkPOJwvA5"
      }
    },
    {
      "cell_type": "markdown",
      "source": [
        "What we know!\n",
        "\n",
        "* Scikit-learn, which is a popular machine learning library\n",
        "\n",
        "\n",
        "\n",
        "```\n",
        "from sklearn.linear_model import LinearRegression\n",
        "\n",
        "# Create a linear regression object\n",
        "regressor = LinearRegression()\n",
        "\n",
        "# Train the model on the training data\n",
        "regressor.fit(X_train, y_train)\n",
        "\n",
        "# Use the trained model to make predictions on new data\n",
        "y_pred = regressor.predict(X_test)\n",
        "```\n",
        "\n",
        "In this example, the ***LinearRegression*** class is used to create a regressor object, which represents a linear regression model. The ***fit*** method is then called on the regressor object to train the model on a set of training data (X_train, y_train), and the *predict* method is used to make predictions on new data (X_test).\n",
        "\n"
      ],
      "metadata": {
        "id": "chnFyOEc1FcI"
      }
    },
    {
      "cell_type": "markdown",
      "source": [
        "**However**, scikit learn often uses interfaces to achieve duck typing instead of inheritance."
      ],
      "metadata": {
        "id": "eUIIiVZP3cs9"
      }
    },
    {
      "cell_type": "code",
      "source": [
        "from sklearn.linear_model import LinearRegression"
      ],
      "metadata": {
        "id": "14V6hQwxoBmF"
      },
      "execution_count": null,
      "outputs": []
    },
    {
      "cell_type": "code",
      "source": [
        "# Create a linear regression object\n",
        "model = LinearRegression()"
      ],
      "metadata": {
        "id": "-9_B-yDLoHKh"
      },
      "execution_count": null,
      "outputs": []
    },
    {
      "cell_type": "code",
      "source": [
        "?model.fit"
      ],
      "metadata": {
        "id": "RKD84NvgoI3s"
      },
      "execution_count": null,
      "outputs": []
    },
    {
      "cell_type": "code",
      "source": [
        "from sklearn.linear_model import LogisticRegression"
      ],
      "metadata": {
        "id": "HjaUgV-9q3fd"
      },
      "execution_count": null,
      "outputs": []
    },
    {
      "cell_type": "code",
      "source": [
        "model = LogisticRegression()"
      ],
      "metadata": {
        "id": "tV4ojrHHrAWf"
      },
      "execution_count": null,
      "outputs": []
    },
    {
      "cell_type": "code",
      "source": [],
      "metadata": {
        "id": "0anr6Gb0rHQp"
      },
      "execution_count": null,
      "outputs": []
    },
    {
      "cell_type": "markdown",
      "source": [
        "What is an interface?"
      ],
      "metadata": {
        "id": "-nXLgcYT3_pI"
      }
    },
    {
      "cell_type": "code",
      "source": [
        "# a set of methods and properties that are defined for a certain behavior or functionality. \n",
        "# In OOP, an interface defines a contract for a class, specifying the methods that the class \n",
        "#must implement in order to conform to the interface. This allows for a more flexible \"acts-like-a\" \n",
        "#relationship between objects, regardless of their class, by providing a common \n",
        "#set of methods for different classes to implement."
      ],
      "metadata": {
        "id": "JoIV7ttC3-4s"
      },
      "execution_count": null,
      "outputs": []
    },
    {
      "cell_type": "code",
      "source": [
        "from abc import ABC, abstractmethod\n",
        "\n",
        "class BankAccount(ABC):\n",
        "    @abstractmethod\n",
        "    def deposit(self, amount):\n",
        "        pass\n",
        "    \n",
        "    @abstractmethod\n",
        "    def withdraw(self, amount):\n",
        "        pass\n",
        "    \n",
        "    @abstractmethod\n",
        "    def get_balance(self):\n",
        "        pass\n",
        "\n",
        "class SavingsAccount(BankAccount):\n",
        "    def __init__(self, account_number, balance, interest_rate):\n",
        "        self.account_number = account_number\n",
        "        self.balance = balance\n",
        "        self.interest_rate = interest_rate\n",
        "    \n",
        "    def deposit(self, amount):\n",
        "        self.balance += amount\n",
        "        \n",
        "    def withdraw(self, amount):\n",
        "        if amount > self.balance:\n",
        "            raise Exception(\"Insufficient funds\")\n",
        "        self.balance -= amount\n",
        "        \n",
        "    def get_balance(self):\n",
        "        return self.balance\n",
        "    \n",
        "    def add_interest(self):\n",
        "        interest = self.balance * self.interest"
      ],
      "metadata": {
        "id": "TN2tM_Po4qDX"
      },
      "execution_count": null,
      "outputs": []
    },
    {
      "cell_type": "markdown",
      "source": [
        "What is duck typing?\n",
        "\n",
        "It refers to the idea that you don't need to know the specific type of an object in order to use it, you just need to know what methods and properties it has.\n",
        "\n",
        "Duck typing is often used in place of traditional inheritance, which is when a class is defined as a child of another class and inherits its methods and properties. While inheritance is a way of creating an \"is-a\" relationship between classes, duck typing allows for a more flexible \"acts-like-a\" relationship between objects, regardless of their class."
      ],
      "metadata": {
        "id": "Cudz4WEJ5cfs"
      }
    },
    {
      "cell_type": "markdown",
      "source": [
        "In **scikit-learn**, the library uses duck typing to provide a consistent and predictable interface for different models, regardless of their specific implementation. For example, all the models in scikit-learn that can be trained and used to make predictions, such as LinearRegression, SVC, RandomForestClassifier, KMeans, etc. all have a common set of methods, such as fit, predict, predict_proba, score, etc."
      ],
      "metadata": {
        "id": "AXxn710t6Cvo"
      }
    },
    {
      "cell_type": "markdown",
      "source": [
        "**Example**\n",
        "\n",
        "\n",
        "```\n",
        "from sklearn.linear_model import LogisticRegression\n",
        "from sklearn.ensemble import RandomForestClassifier\n",
        "\n",
        "# Initialize the classifiers\n",
        "clf1 = LogisticRegression()\n",
        "clf2 = RandomForestClassifier()\n",
        "\n",
        "# Train the models\n",
        "clf1.fit(X_train, y_train)\n",
        "clf2.fit(X_train, y_train)\n",
        "\n",
        "# Use the trained models to make predictions\n",
        "y_proba1 = clf1.predict_proba(X_test)\n",
        "y_proba2 = clf2.predict_proba(X_test)\n",
        "```\n",
        "\n"
      ],
      "metadata": {
        "id": "mfSR5Hrj6ZUI"
      }
    },
    {
      "cell_type": "markdown",
      "source": [
        "Let's look at how different algorithm 'duck type' fit."
      ],
      "metadata": {
        "id": "lu3_dujx6g2-"
      }
    },
    {
      "cell_type": "code",
      "source": [
        "# Logistic regression\n",
        "\n",
        "from sklearn.utils import check_X_y\n",
        "from sklearn.linear_model._base import _preprocess_data\n",
        "from sklearn.linear_model import _logistic_loss\n",
        "\n",
        "class LogisticRegression:\n",
        "    def __init__(self, fit_intercept=True, max_iter=100, tol=1e-4, warm_start=False):\n",
        "        self.fit_intercept = fit_intercept\n",
        "        self.max_iter = max_iter\n",
        "        self.tol = tol\n",
        "        self.warm_start = warm_start\n",
        "        self.coef_ = None\n",
        "        self.intercept_ = None\n",
        "    \n",
        "    def fit(self, X, y):\n",
        "        X, y = check_X_y(X, y, accept_sparse='csr')\n",
        "        X, y, X_offset, y_offset, X_scale = _preprocess_data(\n",
        "            X, y, self.fit_intercept, self.normalize, self.copy_X)\n",
        "\n",
        "        if self.warm_start and hasattr(self, \"coef_\"):\n",
        "            coef_ = self.coef_\n",
        "        else:\n",
        "            coef_ = np.zeros(X.shape[1])\n",
        "\n",
        "        if self.fit_intercept:\n",
        "            intercept_ = self.intercept_\n",
        "        else:\n",
        "            intercept_ = 0.\n",
        "\n",
        "        coef_, intercept_, n_iter_ = _logistic_loss.logistic_regression(\n",
        "            X, y, coef_, intercept_,\n",
        "            max_iter=self.max_iter, tol=self.tol)\n",
        "\n",
        "        self.coef_ = coef_\n",
        "        self.intercept_ = intercept_\n",
        "        self.n_iter_ = n_iter_ \n",
        "        #..."
      ],
      "metadata": {
        "id": "JUtnUHvPwLFH"
      },
      "execution_count": null,
      "outputs": []
    },
    {
      "cell_type": "code",
      "source": [
        "# SVC\n",
        "\n",
        "class SVC:\n",
        "    def __init__(self, C=1.0, kernel='rbf', degree=3, gamma='scale',\n",
        "                 coef0=0.0, shrinking=True, probability=False,\n",
        "                 tol=1e-3, cache_size=200, class_weight=None,\n",
        "                 verbose=False, max_iter=-1, decision_function_shape='ovr',\n",
        "                 random_state=None):\n",
        "        self.C = C\n",
        "        self.kernel = kernel\n",
        "        self.degree = degree\n",
        "        self.gamma = gamma\n",
        "        self.coef0 = coef0\n",
        "        self.shrinking = shrinking\n",
        "        self.probability = probability\n",
        "        self.tol = tol\n",
        "        self.cache_size = cache_size\n",
        "        self.class_weight = class_weight\n",
        "        self.verbose = verbose\n",
        "        self.max_iter = max_iter\n",
        "        self.decision_function_shape = decision_function_shape\n",
        "        self.random_state = random_state\n",
        "        \n",
        "    def fit(self, X, y, sample_weight=None):\n",
        "        X, y = check_X_y(X, y, dtype=np.float64, accept_sparse='csr')\n",
        "        if sample_weight is not None:\n",
        "            sample_weight = check_array(sample_weight, ensure_2d=False)\n",
        "        \n",
        "        if self.kernel in ('linear', 'poly', 'rbf', 'sigmoid', 'precomputed'):\n",
        "            pass\n",
        "        else:\n",
        "            raise ValueError(\"kernel is not recognized\")\n",
        "        \n",
        "        if self.decision_function_shape not in ('ovr', 'ovo'):\n",
        "            raise ValueError(\"decision_function_shape must be 'ovr' or 'ovo'\")\n",
        "        \n",
        "        if self.kernel == 'precomputed':\n",
        "            X = check_array(X, dtype=FLOAT_DTYPES, accept_sparse='csr')\n",
        "            if X.shape[1] != X.shape[0]:\n",
        "                raise ValueError(\"X should be square matrix for 'precomputed' \"\n",
        "                                 \"kernel\")\n",
        "        \n",
        "        self._impl = self._impl_type(kernel=self.kernel, degree=self.degree,\n",
        "                                    gamma\n",
        "        #...\n"
      ],
      "metadata": {
        "id": "CWIESDKg60X2"
      },
      "execution_count": null,
      "outputs": []
    },
    {
      "cell_type": "markdown",
      "source": [
        "Let's try our own Scikit-Learn objects.\n",
        "\n",
        "Our new transformer will transform the data in the following manner:\n",
        "\n",
        "* If the value is positive, scale the value by \n",
        "the largest value in that column\n",
        "* If the value is negative, change it to 0"
      ],
      "metadata": {
        "id": "PD45VfQw8RgJ"
      }
    },
    {
      "cell_type": "code",
      "source": [
        "import numpy as np\n",
        "from sklearn.base import BaseEstimator, TransformerMixin\n",
        "from sklearn.preprocessing import StandardScaler"
      ],
      "metadata": {
        "id": "x5akGBs47vq5"
      },
      "execution_count": null,
      "outputs": []
    },
    {
      "cell_type": "code",
      "source": [
        "class SpecialTransformer(BaseEstimator):\n",
        "    \n",
        "    def fit(self, X, y=None):\n",
        "        self.max_ = np.max(X,axis=0) \n",
        "        return self\n",
        "    \n",
        "    def transform(self, X):\n",
        "        '''\n",
        "        Scale the values passed in: \n",
        "            - Negatives go to 0\n",
        "            - Positives scaled by maximum value found in fit()\n",
        "        '''\n",
        "        self.max_ = np.max(X,axis=0) \n",
        "        X_copy = np.copy(X)\n",
        "        # If negative value, turn it to 0\n",
        "        X_copy[X_copy < 0] = 0\n",
        "        # Scale everything by max value value (previous negative values still 0)\n",
        "        return X_copy / self.max_"
      ],
      "metadata": {
        "id": "xYFGphGK849f"
      },
      "execution_count": null,
      "outputs": []
    },
    {
      "cell_type": "code",
      "source": [
        "my_special_trans = SpecialTransformer()"
      ],
      "metadata": {
        "id": "DI0F5Xpv9DYp"
      },
      "execution_count": null,
      "outputs": []
    },
    {
      "cell_type": "code",
      "source": [
        "## Let's use some test data\n",
        "# Note each column is a feature, each row a data point\n",
        "X = np.array([\n",
        "    [-4,400,40],\n",
        "    [10,-100,1],\n",
        "    [6,-800,700],\n",
        "    [2,0,400],\n",
        "    [8,200,1000]\n",
        "])\n",
        "\n",
        "X"
      ],
      "metadata": {
        "colab": {
          "base_uri": "https://localhost:8080/"
        },
        "id": "d4X1joCv9E3b",
        "outputId": "0561a2e7-23ce-4d55-b0d7-575e4fb40804"
      },
      "execution_count": null,
      "outputs": [
        {
          "output_type": "execute_result",
          "data": {
            "text/plain": [
              "array([[  -4,  400,   40],\n",
              "       [  10, -100,    1],\n",
              "       [   6, -800,  700],\n",
              "       [   2,    0,  400],\n",
              "       [   8,  200, 1000]])"
            ]
          },
          "metadata": {},
          "execution_count": 30
        }
      ]
    },
    {
      "cell_type": "code",
      "source": [
        "X_new = my_special_trans.transform(X)\n",
        "X_new"
      ],
      "metadata": {
        "colab": {
          "base_uri": "https://localhost:8080/"
        },
        "id": "vVZlxO-P9eLq",
        "outputId": "dc5262a0-eba4-4bbc-dbf9-567f99068671"
      },
      "execution_count": null,
      "outputs": [
        {
          "output_type": "execute_result",
          "data": {
            "text/plain": [
              "array([[0.   , 1.   , 0.04 ],\n",
              "       [1.   , 0.   , 0.001],\n",
              "       [0.6  , 0.   , 0.7  ],\n",
              "       [0.2  , 0.   , 0.4  ],\n",
              "       [0.8  , 0.5  , 1.   ]])"
            ]
          },
          "metadata": {},
          "execution_count": 32
        }
      ]
    },
    {
      "cell_type": "markdown",
      "metadata": {
        "heading_collapsed": true,
        "id": "s90EeSGM_pe_"
      },
      "source": [
        "## Exercise: Create Your Own Transformer"
      ]
    },
    {
      "cell_type": "markdown",
      "metadata": {
        "hidden": true,
        "id": "vbN79sKB_pe_"
      },
      "source": [
        "Your turn! Let's try to recreate the [`StandardScaler`](https://scikit-learn.org/stable/modules/generated/sklearn.preprocessing.StandardScaler.html) object!\n",
        "\n",
        "Recall that standard scaling transforms the values in the following way:\n",
        "\n",
        "$$x_i = \\frac{x_i-\\bar{x_i}}{\\sigma_{x_i}}$$\n",
        "\n",
        "where the $i$ subscript reminds us that it comes from a single column/feature."
      ]
    },
    {
      "cell_type": "code",
      "execution_count": null,
      "metadata": {
        "hidden": true,
        "id": "Z8VjdZvR_pe_"
      },
      "outputs": [],
      "source": [
        "## YOUR CODE HERE!\n",
        "class MyStandardScaler():\n",
        "    pass"
      ]
    },
    {
      "cell_type": "markdown",
      "metadata": {
        "heading_collapsed": true,
        "hidden": true,
        "id": "OOmbEFsh_pfA"
      },
      "source": [
        "## Test Your Code!"
      ]
    },
    {
      "cell_type": "markdown",
      "metadata": {
        "hidden": true,
        "id": "NVOzngjP_pfA"
      },
      "source": [
        "Once you have it, you can test it against the data below and Scikit-Learn's `StandardScaler`"
      ]
    },
    {
      "cell_type": "code",
      "execution_count": null,
      "metadata": {
        "hidden": true,
        "id": "Be-SJ-sK_pfA"
      },
      "outputs": [],
      "source": [
        "# Your test data\n",
        "X = np.array([\n",
        "    [-4,400,40],\n",
        "    [10,-100,1],\n",
        "    [6,-800,700],\n",
        "    [2,0,400],\n",
        "    [8,200,1000]\n",
        "])\n",
        "X"
      ]
    },
    {
      "cell_type": "code",
      "execution_count": null,
      "metadata": {
        "hidden": true,
        "id": "SxqJIW3E_pfA"
      },
      "outputs": [],
      "source": [
        "# Test against StandardScaler\n",
        "sklearn_scaler = StandardScaler()\n",
        "X_sklearn_scaled = sklearn_scaler.fit_transform(X)\n",
        "X_sklearn_scaled"
      ]
    },
    {
      "cell_type": "code",
      "execution_count": null,
      "metadata": {
        "hidden": true,
        "id": "2A7O04c8_pfB"
      },
      "outputs": [],
      "source": [
        "# Catches errors\n",
        "try:\n",
        "    # Your implementation\n",
        "    my_scaler = MyStandardScaler()\n",
        "    my_scaler.fit(X)\n",
        "    X_my_scaled = my_scaler.transform(X)\n",
        "    \n",
        "    # Check against StandardScaler\n",
        "    print('StandardScaler and MyStandardScaler same?')\n",
        "    print(X_sklearn_scaled == X_my_scaled)\n",
        "except:\n",
        "    print('Check your fit() and transform() methods!')"
      ]
    }
  ]
}